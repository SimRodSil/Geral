{
  "nbformat": 4,
  "nbformat_minor": 0,
  "metadata": {
    "colab": {
      "provenance": [],
      "collapsed_sections": []
    },
    "kernelspec": {
      "name": "python3",
      "display_name": "Python 3"
    },
    "language_info": {
      "name": "python"
    },
    "accelerator": "GPU"
  },
  "cells": [
    {
      "cell_type": "markdown",
      "source": [
        "## Classificação de frases por setor usando o KNN\n",
        "#Autor: SRS\n",
        "\n",
        "#Data: 12/10/2022\n",
        "#Versão: 1\n",
        "\n",
        "#Observações:\n"
      ],
      "metadata": {
        "id": "alMpr49OMv32"
      }
    },
    {
      "cell_type": "code",
      "source": [
        "# Carregando bibliotecas\n",
        "!pip install -U sentence-transformers\n",
        "import numpy as np\n",
        "import pandas as pd\n",
        "import matplotlib.pyplot as plt\n",
        "import seaborn as sns\n",
        "\n",
        "from sentence_transformers import SentenceTransformer, util\n",
        "from sklearn.model_selection import train_test_split\n",
        "from sklearn.neighbors import KNeighborsClassifier\n",
        "from sklearn.metrics import classification_report\n",
        "from sklearn.metrics import confusion_matrix\n",
        "from sklearn.metrics import ConfusionMatrixDisplay\n",
        "from sklearn.tree import DecisionTreeClassifier\n",
        "\n",
        "%matplotlib inline"
      ],
      "metadata": {
        "id": "8cWRJ0VwNANH",
        "colab": {
          "base_uri": "https://localhost:8080/"
        },
        "outputId": "36e42f21-fd04-4986-c488-38b49e8b9a67"
      },
      "execution_count": 80,
      "outputs": [
        {
          "output_type": "stream",
          "name": "stdout",
          "text": [
            "Looking in indexes: https://pypi.org/simple, https://us-python.pkg.dev/colab-wheels/public/simple/\n",
            "Requirement already satisfied: sentence-transformers in /usr/local/lib/python3.7/dist-packages (2.2.2)\n",
            "Requirement already satisfied: torchvision in /usr/local/lib/python3.7/dist-packages (from sentence-transformers) (0.13.1+cu113)\n",
            "Requirement already satisfied: transformers<5.0.0,>=4.6.0 in /usr/local/lib/python3.7/dist-packages (from sentence-transformers) (4.23.1)\n",
            "Requirement already satisfied: nltk in /usr/local/lib/python3.7/dist-packages (from sentence-transformers) (3.7)\n",
            "Requirement already satisfied: tqdm in /usr/local/lib/python3.7/dist-packages (from sentence-transformers) (4.64.1)\n",
            "Requirement already satisfied: scikit-learn in /usr/local/lib/python3.7/dist-packages (from sentence-transformers) (1.0.2)\n",
            "Requirement already satisfied: sentencepiece in /usr/local/lib/python3.7/dist-packages (from sentence-transformers) (0.1.97)\n",
            "Requirement already satisfied: huggingface-hub>=0.4.0 in /usr/local/lib/python3.7/dist-packages (from sentence-transformers) (0.10.1)\n",
            "Requirement already satisfied: torch>=1.6.0 in /usr/local/lib/python3.7/dist-packages (from sentence-transformers) (1.12.1+cu113)\n",
            "Requirement already satisfied: scipy in /usr/local/lib/python3.7/dist-packages (from sentence-transformers) (1.7.3)\n",
            "Requirement already satisfied: numpy in /usr/local/lib/python3.7/dist-packages (from sentence-transformers) (1.21.6)\n",
            "Requirement already satisfied: importlib-metadata in /usr/local/lib/python3.7/dist-packages (from huggingface-hub>=0.4.0->sentence-transformers) (5.0.0)\n",
            "Requirement already satisfied: typing-extensions>=3.7.4.3 in /usr/local/lib/python3.7/dist-packages (from huggingface-hub>=0.4.0->sentence-transformers) (4.1.1)\n",
            "Requirement already satisfied: pyyaml>=5.1 in /usr/local/lib/python3.7/dist-packages (from huggingface-hub>=0.4.0->sentence-transformers) (6.0)\n",
            "Requirement already satisfied: filelock in /usr/local/lib/python3.7/dist-packages (from huggingface-hub>=0.4.0->sentence-transformers) (3.8.0)\n",
            "Requirement already satisfied: packaging>=20.9 in /usr/local/lib/python3.7/dist-packages (from huggingface-hub>=0.4.0->sentence-transformers) (21.3)\n",
            "Requirement already satisfied: requests in /usr/local/lib/python3.7/dist-packages (from huggingface-hub>=0.4.0->sentence-transformers) (2.23.0)\n",
            "Requirement already satisfied: pyparsing!=3.0.5,>=2.0.2 in /usr/local/lib/python3.7/dist-packages (from packaging>=20.9->huggingface-hub>=0.4.0->sentence-transformers) (3.0.9)\n",
            "Requirement already satisfied: tokenizers!=0.11.3,<0.14,>=0.11.1 in /usr/local/lib/python3.7/dist-packages (from transformers<5.0.0,>=4.6.0->sentence-transformers) (0.13.1)\n",
            "Requirement already satisfied: regex!=2019.12.17 in /usr/local/lib/python3.7/dist-packages (from transformers<5.0.0,>=4.6.0->sentence-transformers) (2022.6.2)\n",
            "Requirement already satisfied: zipp>=0.5 in /usr/local/lib/python3.7/dist-packages (from importlib-metadata->huggingface-hub>=0.4.0->sentence-transformers) (3.9.0)\n",
            "Requirement already satisfied: joblib in /usr/local/lib/python3.7/dist-packages (from nltk->sentence-transformers) (1.2.0)\n",
            "Requirement already satisfied: click in /usr/local/lib/python3.7/dist-packages (from nltk->sentence-transformers) (7.1.2)\n",
            "Requirement already satisfied: chardet<4,>=3.0.2 in /usr/local/lib/python3.7/dist-packages (from requests->huggingface-hub>=0.4.0->sentence-transformers) (3.0.4)\n",
            "Requirement already satisfied: urllib3!=1.25.0,!=1.25.1,<1.26,>=1.21.1 in /usr/local/lib/python3.7/dist-packages (from requests->huggingface-hub>=0.4.0->sentence-transformers) (1.24.3)\n",
            "Requirement already satisfied: idna<3,>=2.5 in /usr/local/lib/python3.7/dist-packages (from requests->huggingface-hub>=0.4.0->sentence-transformers) (2.10)\n",
            "Requirement already satisfied: certifi>=2017.4.17 in /usr/local/lib/python3.7/dist-packages (from requests->huggingface-hub>=0.4.0->sentence-transformers) (2022.9.24)\n",
            "Requirement already satisfied: threadpoolctl>=2.0.0 in /usr/local/lib/python3.7/dist-packages (from scikit-learn->sentence-transformers) (3.1.0)\n",
            "Requirement already satisfied: pillow!=8.3.*,>=5.3.0 in /usr/local/lib/python3.7/dist-packages (from torchvision->sentence-transformers) (7.1.2)\n"
          ]
        }
      ]
    },
    {
      "cell_type": "code",
      "source": [
        "# Abertura de arquivo\n",
        "df = pd.read_csv('dataset.csv')\n",
        "df.head()"
      ],
      "metadata": {
        "id": "xXKJ874rNEBb",
        "colab": {
          "base_uri": "https://localhost:8080/",
          "height": 206
        },
        "outputId": "15c504d4-2125-4803-a1f3-24384de19d2e"
      },
      "execution_count": 81,
      "outputs": [
        {
          "output_type": "execute_result",
          "data": {
            "text/plain": [
              "                                            sentence           category\n",
              "0  Auxílio-Doença Previdenciário, Benefícios em E...      orgão público\n",
              "1        PAGAR TODAS AS CONTAS EM ATRASO R$1.290,90.           finanças\n",
              "2               Então encontraremos na próxima aula.           educação\n",
              "3  Veja os resultados da categoria de ofertas do ...         indústrias\n",
              "4  Além disso, a embalagem é reutilizável e 100% ...  indústrias,varejo"
            ],
            "text/html": [
              "\n",
              "  <div id=\"df-633c6584-cc1c-40ec-951c-f3b1578723dd\">\n",
              "    <div class=\"colab-df-container\">\n",
              "      <div>\n",
              "<style scoped>\n",
              "    .dataframe tbody tr th:only-of-type {\n",
              "        vertical-align: middle;\n",
              "    }\n",
              "\n",
              "    .dataframe tbody tr th {\n",
              "        vertical-align: top;\n",
              "    }\n",
              "\n",
              "    .dataframe thead th {\n",
              "        text-align: right;\n",
              "    }\n",
              "</style>\n",
              "<table border=\"1\" class=\"dataframe\">\n",
              "  <thead>\n",
              "    <tr style=\"text-align: right;\">\n",
              "      <th></th>\n",
              "      <th>sentence</th>\n",
              "      <th>category</th>\n",
              "    </tr>\n",
              "  </thead>\n",
              "  <tbody>\n",
              "    <tr>\n",
              "      <th>0</th>\n",
              "      <td>Auxílio-Doença Previdenciário, Benefícios em E...</td>\n",
              "      <td>orgão público</td>\n",
              "    </tr>\n",
              "    <tr>\n",
              "      <th>1</th>\n",
              "      <td>PAGAR TODAS AS CONTAS EM ATRASO R$1.290,90.</td>\n",
              "      <td>finanças</td>\n",
              "    </tr>\n",
              "    <tr>\n",
              "      <th>2</th>\n",
              "      <td>Então encontraremos na próxima aula.</td>\n",
              "      <td>educação</td>\n",
              "    </tr>\n",
              "    <tr>\n",
              "      <th>3</th>\n",
              "      <td>Veja os resultados da categoria de ofertas do ...</td>\n",
              "      <td>indústrias</td>\n",
              "    </tr>\n",
              "    <tr>\n",
              "      <th>4</th>\n",
              "      <td>Além disso, a embalagem é reutilizável e 100% ...</td>\n",
              "      <td>indústrias,varejo</td>\n",
              "    </tr>\n",
              "  </tbody>\n",
              "</table>\n",
              "</div>\n",
              "      <button class=\"colab-df-convert\" onclick=\"convertToInteractive('df-633c6584-cc1c-40ec-951c-f3b1578723dd')\"\n",
              "              title=\"Convert this dataframe to an interactive table.\"\n",
              "              style=\"display:none;\">\n",
              "        \n",
              "  <svg xmlns=\"http://www.w3.org/2000/svg\" height=\"24px\"viewBox=\"0 0 24 24\"\n",
              "       width=\"24px\">\n",
              "    <path d=\"M0 0h24v24H0V0z\" fill=\"none\"/>\n",
              "    <path d=\"M18.56 5.44l.94 2.06.94-2.06 2.06-.94-2.06-.94-.94-2.06-.94 2.06-2.06.94zm-11 1L8.5 8.5l.94-2.06 2.06-.94-2.06-.94L8.5 2.5l-.94 2.06-2.06.94zm10 10l.94 2.06.94-2.06 2.06-.94-2.06-.94-.94-2.06-.94 2.06-2.06.94z\"/><path d=\"M17.41 7.96l-1.37-1.37c-.4-.4-.92-.59-1.43-.59-.52 0-1.04.2-1.43.59L10.3 9.45l-7.72 7.72c-.78.78-.78 2.05 0 2.83L4 21.41c.39.39.9.59 1.41.59.51 0 1.02-.2 1.41-.59l7.78-7.78 2.81-2.81c.8-.78.8-2.07 0-2.86zM5.41 20L4 18.59l7.72-7.72 1.47 1.35L5.41 20z\"/>\n",
              "  </svg>\n",
              "      </button>\n",
              "      \n",
              "  <style>\n",
              "    .colab-df-container {\n",
              "      display:flex;\n",
              "      flex-wrap:wrap;\n",
              "      gap: 12px;\n",
              "    }\n",
              "\n",
              "    .colab-df-convert {\n",
              "      background-color: #E8F0FE;\n",
              "      border: none;\n",
              "      border-radius: 50%;\n",
              "      cursor: pointer;\n",
              "      display: none;\n",
              "      fill: #1967D2;\n",
              "      height: 32px;\n",
              "      padding: 0 0 0 0;\n",
              "      width: 32px;\n",
              "    }\n",
              "\n",
              "    .colab-df-convert:hover {\n",
              "      background-color: #E2EBFA;\n",
              "      box-shadow: 0px 1px 2px rgba(60, 64, 67, 0.3), 0px 1px 3px 1px rgba(60, 64, 67, 0.15);\n",
              "      fill: #174EA6;\n",
              "    }\n",
              "\n",
              "    [theme=dark] .colab-df-convert {\n",
              "      background-color: #3B4455;\n",
              "      fill: #D2E3FC;\n",
              "    }\n",
              "\n",
              "    [theme=dark] .colab-df-convert:hover {\n",
              "      background-color: #434B5C;\n",
              "      box-shadow: 0px 1px 3px 1px rgba(0, 0, 0, 0.15);\n",
              "      filter: drop-shadow(0px 1px 2px rgba(0, 0, 0, 0.3));\n",
              "      fill: #FFFFFF;\n",
              "    }\n",
              "  </style>\n",
              "\n",
              "      <script>\n",
              "        const buttonEl =\n",
              "          document.querySelector('#df-633c6584-cc1c-40ec-951c-f3b1578723dd button.colab-df-convert');\n",
              "        buttonEl.style.display =\n",
              "          google.colab.kernel.accessAllowed ? 'block' : 'none';\n",
              "\n",
              "        async function convertToInteractive(key) {\n",
              "          const element = document.querySelector('#df-633c6584-cc1c-40ec-951c-f3b1578723dd');\n",
              "          const dataTable =\n",
              "            await google.colab.kernel.invokeFunction('convertToInteractive',\n",
              "                                                     [key], {});\n",
              "          if (!dataTable) return;\n",
              "\n",
              "          const docLinkHtml = 'Like what you see? Visit the ' +\n",
              "            '<a target=\"_blank\" href=https://colab.research.google.com/notebooks/data_table.ipynb>data table notebook</a>'\n",
              "            + ' to learn more about interactive tables.';\n",
              "          element.innerHTML = '';\n",
              "          dataTable['output_type'] = 'display_data';\n",
              "          await google.colab.output.renderOutput(dataTable, element);\n",
              "          const docLink = document.createElement('div');\n",
              "          docLink.innerHTML = docLinkHtml;\n",
              "          element.appendChild(docLink);\n",
              "        }\n",
              "      </script>\n",
              "    </div>\n",
              "  </div>\n",
              "  "
            ]
          },
          "metadata": {},
          "execution_count": 81
        }
      ]
    },
    {
      "cell_type": "markdown",
      "source": [
        "## Visualização básica dos dados "
      ],
      "metadata": {
        "id": "N29d3rCejdtg"
      }
    },
    {
      "cell_type": "code",
      "source": [
        "print(df['category'].unique())\n",
        "print(len(df['category'].unique()))"
      ],
      "metadata": {
        "colab": {
          "base_uri": "https://localhost:8080/"
        },
        "id": "M20cV7WtxSqM",
        "outputId": "66fa38a6-70ee-4d76-9d1e-4094aa74d882"
      },
      "execution_count": 82,
      "outputs": [
        {
          "output_type": "stream",
          "name": "stdout",
          "text": [
            "['orgão público' 'finanças' 'educação' 'indústrias' 'indústrias,varejo'\n",
            " 'varejo' 'finanças,varejo' 'educação,orgão público' 'educação,indústrias'\n",
            " 'finanças,indústrias' 'finanças,orgão público' 'varejo,indústrias'\n",
            " 'indústrias,orgão público' 'educação,finanças']\n",
            "14\n"
          ]
        }
      ]
    },
    {
      "cell_type": "code",
      "source": [
        "# Linhas e colunas\n",
        "print('Qtde. de linhas e colunas', df.shape)\n",
        "print('Nomes das colunas', df.columns)"
      ],
      "metadata": {
        "colab": {
          "base_uri": "https://localhost:8080/"
        },
        "id": "doiiuby6NFcj",
        "outputId": "8e51471c-94a3-441c-819c-52d735d790ba"
      },
      "execution_count": 83,
      "outputs": [
        {
          "output_type": "stream",
          "name": "stdout",
          "text": [
            "Qtde. de linhas e colunas (521, 2)\n",
            "Nomes das colunas Index(['sentence', 'category'], dtype='object')\n"
          ]
        }
      ]
    },
    {
      "cell_type": "code",
      "source": [
        "# Tem features sem preenchimento?\n",
        "print(df.isnull().sum())"
      ],
      "metadata": {
        "colab": {
          "base_uri": "https://localhost:8080/"
        },
        "id": "katUeTrDs-D-",
        "outputId": "cfbeff65-9bea-41ed-b454-c9effadd2684"
      },
      "execution_count": 84,
      "outputs": [
        {
          "output_type": "stream",
          "name": "stdout",
          "text": [
            "sentence    0\n",
            "category    0\n",
            "dtype: int64\n"
          ]
        }
      ]
    },
    {
      "cell_type": "code",
      "source": [
        "# Tem duplicidade ? \n",
        "print('Qtde. de duplicidades : ', df.duplicated().sum())\n",
        "# Retirando as duplicidades\n",
        "df.drop_duplicates(keep='first', inplace=True)\n",
        "print('Removi as duplicidades')\n",
        "# Numero de linhas e colunas atualizadas\n",
        "print('Nova qtde. de linhas e colunas', df.shape)"
      ],
      "metadata": {
        "colab": {
          "base_uri": "https://localhost:8080/"
        },
        "id": "UyZUoaT-ksbV",
        "outputId": "141c9d60-ffcf-4446-cba2-d616b1ce0762"
      },
      "execution_count": 85,
      "outputs": [
        {
          "output_type": "stream",
          "name": "stdout",
          "text": [
            "Qtde. de duplicidades :  8\n",
            "Removi as duplicidades\n",
            "Nova qtde. de linhas e colunas (513, 2)\n"
          ]
        }
      ]
    },
    {
      "cell_type": "code",
      "source": [
        "# Avaliando as quantidades por categorias\n",
        "df[\"category\"].value_counts()"
      ],
      "metadata": {
        "colab": {
          "base_uri": "https://localhost:8080/"
        },
        "id": "hoO9mgRtPJ0h",
        "outputId": "4a5da42b-8818-4453-8074-c6ef6de18abc"
      },
      "execution_count": 86,
      "outputs": [
        {
          "output_type": "execute_result",
          "data": {
            "text/plain": [
              "orgão público               137\n",
              "educação                    105\n",
              "indústrias                   87\n",
              "varejo                       84\n",
              "finanças                     54\n",
              "finanças,varejo              13\n",
              "educação,orgão público        9\n",
              "indústrias,varejo             7\n",
              "educação,indústrias           5\n",
              "finanças,orgão público        4\n",
              "finanças,indústrias           3\n",
              "indústrias,orgão público      2\n",
              "educação,finanças             2\n",
              "varejo,indústrias             1\n",
              "Name: category, dtype: int64"
            ]
          },
          "metadata": {},
          "execution_count": 86
        }
      ]
    },
    {
      "cell_type": "code",
      "source": [
        "# Tratando a categoria convertendo os tipos de texto para classificadores\n",
        "condições = [(df['category'] == 'orgão público'), (df['category'] == 'educação'), (df['category'] == 'indústrias'),(df['category'] == 'varejo'),\n",
        "             (df['category'] == 'finanças'),(df['category'] == 'finanças,varejo'),(df['category'] == 'educação,orgão público'),(df['category'] == 'indústrias,varejo'),\n",
        "             (df['category'] == 'educação,indústrias'),(df['category'] == 'finanças,orgão público'),(df['category'] == 'finanças,indústrias'),\n",
        "             (df['category'] == 'indústrias,orgão público'),(df['category'] == 'educação,finanças'),(df['category'] == 'varejo,indústrias')]\n",
        "\n",
        "valores = [1,2,3,4,5,6,7,8,9,10,11,12,13,14]\n",
        "df['target'] = np.select(condições, valores)"
      ],
      "metadata": {
        "id": "TKbh8fvSiiGx"
      },
      "execution_count": 87,
      "outputs": []
    },
    {
      "cell_type": "code",
      "source": [
        "df.head()"
      ],
      "metadata": {
        "colab": {
          "base_uri": "https://localhost:8080/",
          "height": 206
        },
        "id": "5Ul840aKirxU",
        "outputId": "0da871c3-0e3c-4c19-adf5-68c21a98a073"
      },
      "execution_count": 88,
      "outputs": [
        {
          "output_type": "execute_result",
          "data": {
            "text/plain": [
              "                                            sentence           category  \\\n",
              "0  Auxílio-Doença Previdenciário, Benefícios em E...      orgão público   \n",
              "1        PAGAR TODAS AS CONTAS EM ATRASO R$1.290,90.           finanças   \n",
              "2               Então encontraremos na próxima aula.           educação   \n",
              "3  Veja os resultados da categoria de ofertas do ...         indústrias   \n",
              "4  Além disso, a embalagem é reutilizável e 100% ...  indústrias,varejo   \n",
              "\n",
              "   target  \n",
              "0       1  \n",
              "1       5  \n",
              "2       2  \n",
              "3       3  \n",
              "4       8  "
            ],
            "text/html": [
              "\n",
              "  <div id=\"df-ca362919-23bd-45fe-abae-6ffc809888f4\">\n",
              "    <div class=\"colab-df-container\">\n",
              "      <div>\n",
              "<style scoped>\n",
              "    .dataframe tbody tr th:only-of-type {\n",
              "        vertical-align: middle;\n",
              "    }\n",
              "\n",
              "    .dataframe tbody tr th {\n",
              "        vertical-align: top;\n",
              "    }\n",
              "\n",
              "    .dataframe thead th {\n",
              "        text-align: right;\n",
              "    }\n",
              "</style>\n",
              "<table border=\"1\" class=\"dataframe\">\n",
              "  <thead>\n",
              "    <tr style=\"text-align: right;\">\n",
              "      <th></th>\n",
              "      <th>sentence</th>\n",
              "      <th>category</th>\n",
              "      <th>target</th>\n",
              "    </tr>\n",
              "  </thead>\n",
              "  <tbody>\n",
              "    <tr>\n",
              "      <th>0</th>\n",
              "      <td>Auxílio-Doença Previdenciário, Benefícios em E...</td>\n",
              "      <td>orgão público</td>\n",
              "      <td>1</td>\n",
              "    </tr>\n",
              "    <tr>\n",
              "      <th>1</th>\n",
              "      <td>PAGAR TODAS AS CONTAS EM ATRASO R$1.290,90.</td>\n",
              "      <td>finanças</td>\n",
              "      <td>5</td>\n",
              "    </tr>\n",
              "    <tr>\n",
              "      <th>2</th>\n",
              "      <td>Então encontraremos na próxima aula.</td>\n",
              "      <td>educação</td>\n",
              "      <td>2</td>\n",
              "    </tr>\n",
              "    <tr>\n",
              "      <th>3</th>\n",
              "      <td>Veja os resultados da categoria de ofertas do ...</td>\n",
              "      <td>indústrias</td>\n",
              "      <td>3</td>\n",
              "    </tr>\n",
              "    <tr>\n",
              "      <th>4</th>\n",
              "      <td>Além disso, a embalagem é reutilizável e 100% ...</td>\n",
              "      <td>indústrias,varejo</td>\n",
              "      <td>8</td>\n",
              "    </tr>\n",
              "  </tbody>\n",
              "</table>\n",
              "</div>\n",
              "      <button class=\"colab-df-convert\" onclick=\"convertToInteractive('df-ca362919-23bd-45fe-abae-6ffc809888f4')\"\n",
              "              title=\"Convert this dataframe to an interactive table.\"\n",
              "              style=\"display:none;\">\n",
              "        \n",
              "  <svg xmlns=\"http://www.w3.org/2000/svg\" height=\"24px\"viewBox=\"0 0 24 24\"\n",
              "       width=\"24px\">\n",
              "    <path d=\"M0 0h24v24H0V0z\" fill=\"none\"/>\n",
              "    <path d=\"M18.56 5.44l.94 2.06.94-2.06 2.06-.94-2.06-.94-.94-2.06-.94 2.06-2.06.94zm-11 1L8.5 8.5l.94-2.06 2.06-.94-2.06-.94L8.5 2.5l-.94 2.06-2.06.94zm10 10l.94 2.06.94-2.06 2.06-.94-2.06-.94-.94-2.06-.94 2.06-2.06.94z\"/><path d=\"M17.41 7.96l-1.37-1.37c-.4-.4-.92-.59-1.43-.59-.52 0-1.04.2-1.43.59L10.3 9.45l-7.72 7.72c-.78.78-.78 2.05 0 2.83L4 21.41c.39.39.9.59 1.41.59.51 0 1.02-.2 1.41-.59l7.78-7.78 2.81-2.81c.8-.78.8-2.07 0-2.86zM5.41 20L4 18.59l7.72-7.72 1.47 1.35L5.41 20z\"/>\n",
              "  </svg>\n",
              "      </button>\n",
              "      \n",
              "  <style>\n",
              "    .colab-df-container {\n",
              "      display:flex;\n",
              "      flex-wrap:wrap;\n",
              "      gap: 12px;\n",
              "    }\n",
              "\n",
              "    .colab-df-convert {\n",
              "      background-color: #E8F0FE;\n",
              "      border: none;\n",
              "      border-radius: 50%;\n",
              "      cursor: pointer;\n",
              "      display: none;\n",
              "      fill: #1967D2;\n",
              "      height: 32px;\n",
              "      padding: 0 0 0 0;\n",
              "      width: 32px;\n",
              "    }\n",
              "\n",
              "    .colab-df-convert:hover {\n",
              "      background-color: #E2EBFA;\n",
              "      box-shadow: 0px 1px 2px rgba(60, 64, 67, 0.3), 0px 1px 3px 1px rgba(60, 64, 67, 0.15);\n",
              "      fill: #174EA6;\n",
              "    }\n",
              "\n",
              "    [theme=dark] .colab-df-convert {\n",
              "      background-color: #3B4455;\n",
              "      fill: #D2E3FC;\n",
              "    }\n",
              "\n",
              "    [theme=dark] .colab-df-convert:hover {\n",
              "      background-color: #434B5C;\n",
              "      box-shadow: 0px 1px 3px 1px rgba(0, 0, 0, 0.15);\n",
              "      filter: drop-shadow(0px 1px 2px rgba(0, 0, 0, 0.3));\n",
              "      fill: #FFFFFF;\n",
              "    }\n",
              "  </style>\n",
              "\n",
              "      <script>\n",
              "        const buttonEl =\n",
              "          document.querySelector('#df-ca362919-23bd-45fe-abae-6ffc809888f4 button.colab-df-convert');\n",
              "        buttonEl.style.display =\n",
              "          google.colab.kernel.accessAllowed ? 'block' : 'none';\n",
              "\n",
              "        async function convertToInteractive(key) {\n",
              "          const element = document.querySelector('#df-ca362919-23bd-45fe-abae-6ffc809888f4');\n",
              "          const dataTable =\n",
              "            await google.colab.kernel.invokeFunction('convertToInteractive',\n",
              "                                                     [key], {});\n",
              "          if (!dataTable) return;\n",
              "\n",
              "          const docLinkHtml = 'Like what you see? Visit the ' +\n",
              "            '<a target=\"_blank\" href=https://colab.research.google.com/notebooks/data_table.ipynb>data table notebook</a>'\n",
              "            + ' to learn more about interactive tables.';\n",
              "          element.innerHTML = '';\n",
              "          dataTable['output_type'] = 'display_data';\n",
              "          await google.colab.output.renderOutput(dataTable, element);\n",
              "          const docLink = document.createElement('div');\n",
              "          docLink.innerHTML = docLinkHtml;\n",
              "          element.appendChild(docLink);\n",
              "        }\n",
              "      </script>\n",
              "    </div>\n",
              "  </div>\n",
              "  "
            ]
          },
          "metadata": {},
          "execution_count": 88
        }
      ]
    },
    {
      "cell_type": "code",
      "source": [
        "# Visualizando as quantidades por categoria\n",
        "plt.figure(figsize=(35,10))\n",
        "sns.countplot(df.category)\n",
        "plt.xlabel('categoria')\n",
        "plt.title('Quantidade por categoria')"
      ],
      "metadata": {
        "id": "nUdSJUq6fIYr",
        "colab": {
          "base_uri": "https://localhost:8080/",
          "height": 570
        },
        "outputId": "e5f1ef64-5463-4783-ee00-07c708427cbe"
      },
      "execution_count": 89,
      "outputs": [
        {
          "output_type": "stream",
          "name": "stderr",
          "text": [
            "/usr/local/lib/python3.7/dist-packages/seaborn/_decorators.py:43: FutureWarning: Pass the following variable as a keyword arg: x. From version 0.12, the only valid positional argument will be `data`, and passing other arguments without an explicit keyword will result in an error or misinterpretation.\n",
            "  FutureWarning\n"
          ]
        },
        {
          "output_type": "execute_result",
          "data": {
            "text/plain": [
              "Text(0.5, 1.0, 'Quantidade por categoria')"
            ]
          },
          "metadata": {},
          "execution_count": 89
        },
        {
          "output_type": "display_data",
          "data": {
            "text/plain": [
              "<Figure size 2520x720 with 1 Axes>"
            ],
            "image/png": "[encoded data removed]"
          },
          "metadata": {
            "needs_background": "light"
          }
        }
      ]
    },
    {
      "cell_type": "markdown",
      "source": [
        "# Pré-processamento dos Textos\n",
        "\n",
        "Usando um modelo pré-treinado para extrair características dos textos nos dataframes sem e com tratamento da feature category."
      ],
      "metadata": {
        "id": "1uVLM90svByP"
      }
    },
    {
      "cell_type": "code",
      "source": [
        "# Carregando as características dos textos do modelo\n",
        "text_feature_extractor = SentenceTransformer('paraphrase-multilingual-mpnet-base-v2')"
      ],
      "metadata": {
        "id": "020LJAQedvrA"
      },
      "execution_count": 90,
      "outputs": []
    },
    {
      "cell_type": "code",
      "source": [
        "# Transfornando os textos em vetores\n",
        "X = text_feature_extractor.encode(df.sentence.to_list())"
      ],
      "metadata": {
        "id": "FfxQnbxmiy45"
      },
      "execution_count": 91,
      "outputs": []
    },
    {
      "cell_type": "code",
      "source": [
        "# Visualizando os vetores criados\n",
        "df['text'] = list(X)\n",
        "df"
      ],
      "metadata": {
        "colab": {
          "base_uri": "https://localhost:8080/",
          "height": 424
        },
        "id": "ggI3ItgGNHxs",
        "outputId": "c7fd2326-8460-4e40-a6e2-fc5d045ea2b6"
      },
      "execution_count": 92,
      "outputs": [
        {
          "output_type": "execute_result",
          "data": {
            "text/plain": [
              "                                              sentence  \\\n",
              "0    Auxílio-Doença Previdenciário, Benefícios em E...   \n",
              "1          PAGAR TODAS AS CONTAS EM ATRASO R$1.290,90.   \n",
              "2                 Então encontraremos na próxima aula.   \n",
              "3    Veja os resultados da categoria de ofertas do ...   \n",
              "4    Além disso, a embalagem é reutilizável e 100% ...   \n",
              "..                                                 ...   \n",
              "516  Selecione o local de estudo, curso sem encontr...   \n",
              "517  ESTUDANTES DA REDE MUNICIPAL VOLTAM ÀS AULAS E...   \n",
              "518                         Empresas e órgãos públicos   \n",
              "519  DGE – Departamento de Gestão Estratégica Metas...   \n",
              "520               Lei 13.467/2017, Reforma Trabalhista   \n",
              "\n",
              "                   category  target  \\\n",
              "0             orgão público       1   \n",
              "1                  finanças       5   \n",
              "2                  educação       2   \n",
              "3                indústrias       3   \n",
              "4         indústrias,varejo       8   \n",
              "..                      ...     ...   \n",
              "516                educação       2   \n",
              "517  educação,orgão público       7   \n",
              "518           orgão público       1   \n",
              "519           orgão público       1   \n",
              "520           orgão público       1   \n",
              "\n",
              "                                                  text  \n",
              "0    [-0.08659656, 0.1970878, -0.020183278, 0.00814...  \n",
              "1    [-0.12397488, -0.033985425, -0.0115672, 0.1990...  \n",
              "2    [0.04774219, 0.21414632, -0.010318125, 0.10446...  \n",
              "3    [-0.021570561, 0.09289247, -0.0049182507, 0.09...  \n",
              "4    [0.17631179, -0.21903096, -0.011894866, -0.054...  \n",
              "..                                                 ...  \n",
              "516  [-0.19954486, 0.12061647, -0.010825499, -0.043...  \n",
              "517  [-0.085093744, 0.15961227, -0.017924124, 0.040...  \n",
              "518  [-0.028186686, 0.27009827, -0.016615883, 0.071...  \n",
              "519  [0.069167435, 0.23252894, -0.017175842, -0.115...  \n",
              "520  [-0.26054028, 0.04546891, -0.01396052, -0.0041...  \n",
              "\n",
              "[513 rows x 4 columns]"
            ],
            "text/html": [
              "\n",
              "  <div id=\"df-68b2edbb-04e0-4d4f-959e-c8cb46efcadc\">\n",
              "    <div class=\"colab-df-container\">\n",
              "      <div>\n",
              "<style scoped>\n",
              "    .dataframe tbody tr th:only-of-type {\n",
              "        vertical-align: middle;\n",
              "    }\n",
              "\n",
              "    .dataframe tbody tr th {\n",
              "        vertical-align: top;\n",
              "    }\n",
              "\n",
              "    .dataframe thead th {\n",
              "        text-align: right;\n",
              "    }\n",
              "</style>\n",
              "<table border=\"1\" class=\"dataframe\">\n",
              "  <thead>\n",
              "    <tr style=\"text-align: right;\">\n",
              "      <th></th>\n",
              "      <th>sentence</th>\n",
              "      <th>category</th>\n",
              "      <th>target</th>\n",
              "      <th>text</th>\n",
              "    </tr>\n",
              "  </thead>\n",
              "  <tbody>\n",
              "    <tr>\n",
              "      <th>0</th>\n",
              "      <td>Auxílio-Doença Previdenciário, Benefícios em E...</td>\n",
              "      <td>orgão público</td>\n",
              "      <td>1</td>\n",
              "      <td>[-0.08659656, 0.1970878, -0.020183278, 0.00814...</td>\n",
              "    </tr>\n",
              "    <tr>\n",
              "      <th>1</th>\n",
              "      <td>PAGAR TODAS AS CONTAS EM ATRASO R$1.290,90.</td>\n",
              "      <td>finanças</td>\n",
              "      <td>5</td>\n",
              "      <td>[-0.12397488, -0.033985425, -0.0115672, 0.1990...</td>\n",
              "    </tr>\n",
              "    <tr>\n",
              "      <th>2</th>\n",
              "      <td>Então encontraremos na próxima aula.</td>\n",
              "      <td>educação</td>\n",
              "      <td>2</td>\n",
              "      <td>[0.04774219, 0.21414632, -0.010318125, 0.10446...</td>\n",
              "    </tr>\n",
              "    <tr>\n",
              "      <th>3</th>\n",
              "      <td>Veja os resultados da categoria de ofertas do ...</td>\n",
              "      <td>indústrias</td>\n",
              "      <td>3</td>\n",
              "      <td>[-0.021570561, 0.09289247, -0.0049182507, 0.09...</td>\n",
              "    </tr>\n",
              "    <tr>\n",
              "      <th>4</th>\n",
              "      <td>Além disso, a embalagem é reutilizável e 100% ...</td>\n",
              "      <td>indústrias,varejo</td>\n",
              "      <td>8</td>\n",
              "      <td>[0.17631179, -0.21903096, -0.011894866, -0.054...</td>\n",
              "    </tr>\n",
              "    <tr>\n",
              "      <th>...</th>\n",
              "      <td>...</td>\n",
              "      <td>...</td>\n",
              "      <td>...</td>\n",
              "      <td>...</td>\n",
              "    </tr>\n",
              "    <tr>\n",
              "      <th>516</th>\n",
              "      <td>Selecione o local de estudo, curso sem encontr...</td>\n",
              "      <td>educação</td>\n",
              "      <td>2</td>\n",
              "      <td>[-0.19954486, 0.12061647, -0.010825499, -0.043...</td>\n",
              "    </tr>\n",
              "    <tr>\n",
              "      <th>517</th>\n",
              "      <td>ESTUDANTES DA REDE MUNICIPAL VOLTAM ÀS AULAS E...</td>\n",
              "      <td>educação,orgão público</td>\n",
              "      <td>7</td>\n",
              "      <td>[-0.085093744, 0.15961227, -0.017924124, 0.040...</td>\n",
              "    </tr>\n",
              "    <tr>\n",
              "      <th>518</th>\n",
              "      <td>Empresas e órgãos públicos</td>\n",
              "      <td>orgão público</td>\n",
              "      <td>1</td>\n",
              "      <td>[-0.028186686, 0.27009827, -0.016615883, 0.071...</td>\n",
              "    </tr>\n",
              "    <tr>\n",
              "      <th>519</th>\n",
              "      <td>DGE – Departamento de Gestão Estratégica Metas...</td>\n",
              "      <td>orgão público</td>\n",
              "      <td>1</td>\n",
              "      <td>[0.069167435, 0.23252894, -0.017175842, -0.115...</td>\n",
              "    </tr>\n",
              "    <tr>\n",
              "      <th>520</th>\n",
              "      <td>Lei 13.467/2017, Reforma Trabalhista</td>\n",
              "      <td>orgão público</td>\n",
              "      <td>1</td>\n",
              "      <td>[-0.26054028, 0.04546891, -0.01396052, -0.0041...</td>\n",
              "    </tr>\n",
              "  </tbody>\n",
              "</table>\n",
              "<p>513 rows × 4 columns</p>\n",
              "</div>\n",
              "      <button class=\"colab-df-convert\" onclick=\"convertToInteractive('df-68b2edbb-04e0-4d4f-959e-c8cb46efcadc')\"\n",
              "              title=\"Convert this dataframe to an interactive table.\"\n",
              "              style=\"display:none;\">\n",
              "        \n",
              "  <svg xmlns=\"http://www.w3.org/2000/svg\" height=\"24px\"viewBox=\"0 0 24 24\"\n",
              "       width=\"24px\">\n",
              "    <path d=\"M0 0h24v24H0V0z\" fill=\"none\"/>\n",
              "    <path d=\"M18.56 5.44l.94 2.06.94-2.06 2.06-.94-2.06-.94-.94-2.06-.94 2.06-2.06.94zm-11 1L8.5 8.5l.94-2.06 2.06-.94-2.06-.94L8.5 2.5l-.94 2.06-2.06.94zm10 10l.94 2.06.94-2.06 2.06-.94-2.06-.94-.94-2.06-.94 2.06-2.06.94z\"/><path d=\"M17.41 7.96l-1.37-1.37c-.4-.4-.92-.59-1.43-.59-.52 0-1.04.2-1.43.59L10.3 9.45l-7.72 7.72c-.78.78-.78 2.05 0 2.83L4 21.41c.39.39.9.59 1.41.59.51 0 1.02-.2 1.41-.59l7.78-7.78 2.81-2.81c.8-.78.8-2.07 0-2.86zM5.41 20L4 18.59l7.72-7.72 1.47 1.35L5.41 20z\"/>\n",
              "  </svg>\n",
              "      </button>\n",
              "      \n",
              "  <style>\n",
              "    .colab-df-container {\n",
              "      display:flex;\n",
              "      flex-wrap:wrap;\n",
              "      gap: 12px;\n",
              "    }\n",
              "\n",
              "    .colab-df-convert {\n",
              "      background-color: #E8F0FE;\n",
              "      border: none;\n",
              "      border-radius: 50%;\n",
              "      cursor: pointer;\n",
              "      display: none;\n",
              "      fill: #1967D2;\n",
              "      height: 32px;\n",
              "      padding: 0 0 0 0;\n",
              "      width: 32px;\n",
              "    }\n",
              "\n",
              "    .colab-df-convert:hover {\n",
              "      background-color: #E2EBFA;\n",
              "      box-shadow: 0px 1px 2px rgba(60, 64, 67, 0.3), 0px 1px 3px 1px rgba(60, 64, 67, 0.15);\n",
              "      fill: #174EA6;\n",
              "    }\n",
              "\n",
              "    [theme=dark] .colab-df-convert {\n",
              "      background-color: #3B4455;\n",
              "      fill: #D2E3FC;\n",
              "    }\n",
              "\n",
              "    [theme=dark] .colab-df-convert:hover {\n",
              "      background-color: #434B5C;\n",
              "      box-shadow: 0px 1px 3px 1px rgba(0, 0, 0, 0.15);\n",
              "      filter: drop-shadow(0px 1px 2px rgba(0, 0, 0, 0.3));\n",
              "      fill: #FFFFFF;\n",
              "    }\n",
              "  </style>\n",
              "\n",
              "      <script>\n",
              "        const buttonEl =\n",
              "          document.querySelector('#df-68b2edbb-04e0-4d4f-959e-c8cb46efcadc button.colab-df-convert');\n",
              "        buttonEl.style.display =\n",
              "          google.colab.kernel.accessAllowed ? 'block' : 'none';\n",
              "\n",
              "        async function convertToInteractive(key) {\n",
              "          const element = document.querySelector('#df-68b2edbb-04e0-4d4f-959e-c8cb46efcadc');\n",
              "          const dataTable =\n",
              "            await google.colab.kernel.invokeFunction('convertToInteractive',\n",
              "                                                     [key], {});\n",
              "          if (!dataTable) return;\n",
              "\n",
              "          const docLinkHtml = 'Like what you see? Visit the ' +\n",
              "            '<a target=\"_blank\" href=https://colab.research.google.com/notebooks/data_table.ipynb>data table notebook</a>'\n",
              "            + ' to learn more about interactive tables.';\n",
              "          element.innerHTML = '';\n",
              "          dataTable['output_type'] = 'display_data';\n",
              "          await google.colab.output.renderOutput(dataTable, element);\n",
              "          const docLink = document.createElement('div');\n",
              "          docLink.innerHTML = docLinkHtml;\n",
              "          element.appendChild(docLink);\n",
              "        }\n",
              "      </script>\n",
              "    </div>\n",
              "  </div>\n",
              "  "
            ]
          },
          "metadata": {},
          "execution_count": 92
        }
      ]
    },
    {
      "cell_type": "markdown",
      "source": [
        "## Criando modelo KNN sem trasformar a feature category"
      ],
      "metadata": {
        "id": "8VmDG0d5Q9m-"
      }
    },
    {
      "cell_type": "code",
      "source": [
        "# Coletando os dados e treino e testes\n",
        "df_train, df_test = train_test_split(df, test_size=0.25, random_state=2)\n"
      ],
      "metadata": {
        "id": "JqMkbAX4nfE9"
      },
      "execution_count": 93,
      "outputs": []
    },
    {
      "cell_type": "code",
      "source": [
        "# Visualização dos dados de treino\n",
        "print('Qtde de Linhas para treinamento: ', df_train.shape[0])\n",
        "print('Qtde de Linhas para teste: ', df_test.shape[0])"
      ],
      "metadata": {
        "id": "6LFILYZUnfHf",
        "colab": {
          "base_uri": "https://localhost:8080/"
        },
        "outputId": "99d2b949-720f-4e6a-b078-6be3e329d2d2"
      },
      "execution_count": 94,
      "outputs": [
        {
          "output_type": "stream",
          "name": "stdout",
          "text": [
            "Qtde de Linhas para treinamento:  384\n",
            "Qtde de Linhas para teste:  129\n"
          ]
        }
      ]
    },
    {
      "cell_type": "code",
      "source": [
        "# Criando e treinando o modelo KNN com 3 sem converter a feature categoria\n",
        "KNNv13 = KNeighborsClassifier(n_neighbors=3, metric='cosine')\n",
        "KNNv13.fit(df_train['text'].to_list(), df_train['category'].to_list())"
      ],
      "metadata": {
        "colab": {
          "base_uri": "https://localhost:8080/"
        },
        "id": "fHQksl8TeVvB",
        "outputId": "c374c170-7fd8-43b4-f347-92637ca9ec87"
      },
      "execution_count": 95,
      "outputs": [
        {
          "output_type": "execute_result",
          "data": {
            "text/plain": [
              "KNeighborsClassifier(metric='cosine', n_neighbors=3)"
            ]
          },
          "metadata": {},
          "execution_count": 95
        }
      ]
    },
    {
      "cell_type": "code",
      "source": [
        "# Criando e treinando o modelo KNN com 3 convertendo a feature categoria\n",
        "KNNv23 = KNeighborsClassifier(n_neighbors=3, metric='cosine')\n",
        "KNNv23.fit(df_train['text'].to_list(), df_train['target'].to_list())"
      ],
      "metadata": {
        "id": "yFaHvTJlnfMI",
        "colab": {
          "base_uri": "https://localhost:8080/"
        },
        "outputId": "b64808c2-5b72-4586-cb6f-70c3960d744b"
      },
      "execution_count": 96,
      "outputs": [
        {
          "output_type": "execute_result",
          "data": {
            "text/plain": [
              "KNeighborsClassifier(metric='cosine', n_neighbors=3)"
            ]
          },
          "metadata": {},
          "execution_count": 96
        }
      ]
    },
    {
      "cell_type": "code",
      "source": [
        "# Observando o resultado do modelo KNN com 3 sem converter a feature categoria\n",
        "preds_v1_KNN3 = KNNv13.predict(df_test['text'].to_list())\n",
        "df_test['preds_v1_KNN3'] = preds_v1_KNN3\n",
        "df_test.sample(10)"
      ],
      "metadata": {
        "colab": {
          "base_uri": "https://localhost:8080/",
          "height": 363
        },
        "id": "Hft3BGsuvoXM",
        "outputId": "7bd56fde-3d63-490e-91e7-5b66037b45a4"
      },
      "execution_count": 97,
      "outputs": [
        {
          "output_type": "execute_result",
          "data": {
            "text/plain": [
              "                                              sentence             category  \\\n",
              "278  Carro com porta malas de 435 Litros com espaço...           indústrias   \n",
              "360  Secretaria de Meio Ambiente de Santo André res...        orgão público   \n",
              "511                   Desejo receber ofertas no e-mail               varejo   \n",
              "67                             Etapa Educação Infantil             educação   \n",
              "378                           R$ 5 de desconto ao mês.             finanças   \n",
              "269  Curso de Técnico em Segurança do Trabalho por ...    educação,finanças   \n",
              "154                                 Extrato de débitos             finanças   \n",
              "305  Graduação Superior de Tecnologia em Automação ...  educação,indústrias   \n",
              "146    Cadastro Nacional de Adoção (CNA) - Portal CNJ.        orgão público   \n",
              "32   Sua compra pode ser dividida em 15 ou 24 parce...      finanças,varejo   \n",
              "\n",
              "     target                                               text  \\\n",
              "278       3  [0.09585558, -0.029587902, -0.010325139, 0.168...   \n",
              "360       1  [-0.066027775, 0.5479196, -0.010722876, -0.018...   \n",
              "511       4  [0.025145704, 0.18878917, -0.010960886, 0.0129...   \n",
              "67        2  [-0.057257455, -0.019155743, -0.017857626, 0.0...   \n",
              "378       5  [-0.0722342, -0.05624622, -0.014796348, -0.019...   \n",
              "269      13  [-0.24005693, -0.03896529, -0.008509515, 0.115...   \n",
              "154       5  [-0.051941384, 0.10952694, -0.017489316, 0.083...   \n",
              "305       9  [-0.21805121, -0.060188066, -0.004846373, 0.11...   \n",
              "146       1  [-0.113858685, 0.30113047, -0.014392789, -0.00...   \n",
              "32        6  [-0.026148096, 0.056153297, -0.008982734, 0.05...   \n",
              "\n",
              "       preds_v1_KNN3  \n",
              "278  finanças,varejo  \n",
              "360       indústrias  \n",
              "511           varejo  \n",
              "67          educação  \n",
              "378         finanças  \n",
              "269         educação  \n",
              "154         finanças  \n",
              "305         educação  \n",
              "146    orgão público  \n",
              "32          finanças  "
            ],
            "text/html": [
              "\n",
              "  <div id=\"df-73edcfc4-7972-41db-ab62-f63bd07d7358\">\n",
              "    <div class=\"colab-df-container\">\n",
              "      <div>\n",
              "<style scoped>\n",
              "    .dataframe tbody tr th:only-of-type {\n",
              "        vertical-align: middle;\n",
              "    }\n",
              "\n",
              "    .dataframe tbody tr th {\n",
              "        vertical-align: top;\n",
              "    }\n",
              "\n",
              "    .dataframe thead th {\n",
              "        text-align: right;\n",
              "    }\n",
              "</style>\n",
              "<table border=\"1\" class=\"dataframe\">\n",
              "  <thead>\n",
              "    <tr style=\"text-align: right;\">\n",
              "      <th></th>\n",
              "      <th>sentence</th>\n",
              "      <th>category</th>\n",
              "      <th>target</th>\n",
              "      <th>text</th>\n",
              "      <th>preds_v1_KNN3</th>\n",
              "    </tr>\n",
              "  </thead>\n",
              "  <tbody>\n",
              "    <tr>\n",
              "      <th>278</th>\n",
              "      <td>Carro com porta malas de 435 Litros com espaço...</td>\n",
              "      <td>indústrias</td>\n",
              "      <td>3</td>\n",
              "      <td>[0.09585558, -0.029587902, -0.010325139, 0.168...</td>\n",
              "      <td>finanças,varejo</td>\n",
              "    </tr>\n",
              "    <tr>\n",
              "      <th>360</th>\n",
              "      <td>Secretaria de Meio Ambiente de Santo André res...</td>\n",
              "      <td>orgão público</td>\n",
              "      <td>1</td>\n",
              "      <td>[-0.066027775, 0.5479196, -0.010722876, -0.018...</td>\n",
              "      <td>indústrias</td>\n",
              "    </tr>\n",
              "    <tr>\n",
              "      <th>511</th>\n",
              "      <td>Desejo receber ofertas no e-mail</td>\n",
              "      <td>varejo</td>\n",
              "      <td>4</td>\n",
              "      <td>[0.025145704, 0.18878917, -0.010960886, 0.0129...</td>\n",
              "      <td>varejo</td>\n",
              "    </tr>\n",
              "    <tr>\n",
              "      <th>67</th>\n",
              "      <td>Etapa Educação Infantil</td>\n",
              "      <td>educação</td>\n",
              "      <td>2</td>\n",
              "      <td>[-0.057257455, -0.019155743, -0.017857626, 0.0...</td>\n",
              "      <td>educação</td>\n",
              "    </tr>\n",
              "    <tr>\n",
              "      <th>378</th>\n",
              "      <td>R$ 5 de desconto ao mês.</td>\n",
              "      <td>finanças</td>\n",
              "      <td>5</td>\n",
              "      <td>[-0.0722342, -0.05624622, -0.014796348, -0.019...</td>\n",
              "      <td>finanças</td>\n",
              "    </tr>\n",
              "    <tr>\n",
              "      <th>269</th>\n",
              "      <td>Curso de Técnico em Segurança do Trabalho por ...</td>\n",
              "      <td>educação,finanças</td>\n",
              "      <td>13</td>\n",
              "      <td>[-0.24005693, -0.03896529, -0.008509515, 0.115...</td>\n",
              "      <td>educação</td>\n",
              "    </tr>\n",
              "    <tr>\n",
              "      <th>154</th>\n",
              "      <td>Extrato de débitos</td>\n",
              "      <td>finanças</td>\n",
              "      <td>5</td>\n",
              "      <td>[-0.051941384, 0.10952694, -0.017489316, 0.083...</td>\n",
              "      <td>finanças</td>\n",
              "    </tr>\n",
              "    <tr>\n",
              "      <th>305</th>\n",
              "      <td>Graduação Superior de Tecnologia em Automação ...</td>\n",
              "      <td>educação,indústrias</td>\n",
              "      <td>9</td>\n",
              "      <td>[-0.21805121, -0.060188066, -0.004846373, 0.11...</td>\n",
              "      <td>educação</td>\n",
              "    </tr>\n",
              "    <tr>\n",
              "      <th>146</th>\n",
              "      <td>Cadastro Nacional de Adoção (CNA) - Portal CNJ.</td>\n",
              "      <td>orgão público</td>\n",
              "      <td>1</td>\n",
              "      <td>[-0.113858685, 0.30113047, -0.014392789, -0.00...</td>\n",
              "      <td>orgão público</td>\n",
              "    </tr>\n",
              "    <tr>\n",
              "      <th>32</th>\n",
              "      <td>Sua compra pode ser dividida em 15 ou 24 parce...</td>\n",
              "      <td>finanças,varejo</td>\n",
              "      <td>6</td>\n",
              "      <td>[-0.026148096, 0.056153297, -0.008982734, 0.05...</td>\n",
              "      <td>finanças</td>\n",
              "    </tr>\n",
              "  </tbody>\n",
              "</table>\n",
              "</div>\n",
              "      <button class=\"colab-df-convert\" onclick=\"convertToInteractive('df-73edcfc4-7972-41db-ab62-f63bd07d7358')\"\n",
              "              title=\"Convert this dataframe to an interactive table.\"\n",
              "              style=\"display:none;\">\n",
              "        \n",
              "  <svg xmlns=\"http://www.w3.org/2000/svg\" height=\"24px\"viewBox=\"0 0 24 24\"\n",
              "       width=\"24px\">\n",
              "    <path d=\"M0 0h24v24H0V0z\" fill=\"none\"/>\n",
              "    <path d=\"M18.56 5.44l.94 2.06.94-2.06 2.06-.94-2.06-.94-.94-2.06-.94 2.06-2.06.94zm-11 1L8.5 8.5l.94-2.06 2.06-.94-2.06-.94L8.5 2.5l-.94 2.06-2.06.94zm10 10l.94 2.06.94-2.06 2.06-.94-2.06-.94-.94-2.06-.94 2.06-2.06.94z\"/><path d=\"M17.41 7.96l-1.37-1.37c-.4-.4-.92-.59-1.43-.59-.52 0-1.04.2-1.43.59L10.3 9.45l-7.72 7.72c-.78.78-.78 2.05 0 2.83L4 21.41c.39.39.9.59 1.41.59.51 0 1.02-.2 1.41-.59l7.78-7.78 2.81-2.81c.8-.78.8-2.07 0-2.86zM5.41 20L4 18.59l7.72-7.72 1.47 1.35L5.41 20z\"/>\n",
              "  </svg>\n",
              "      </button>\n",
              "      \n",
              "  <style>\n",
              "    .colab-df-container {\n",
              "      display:flex;\n",
              "      flex-wrap:wrap;\n",
              "      gap: 12px;\n",
              "    }\n",
              "\n",
              "    .colab-df-convert {\n",
              "      background-color: #E8F0FE;\n",
              "      border: none;\n",
              "      border-radius: 50%;\n",
              "      cursor: pointer;\n",
              "      display: none;\n",
              "      fill: #1967D2;\n",
              "      height: 32px;\n",
              "      padding: 0 0 0 0;\n",
              "      width: 32px;\n",
              "    }\n",
              "\n",
              "    .colab-df-convert:hover {\n",
              "      background-color: #E2EBFA;\n",
              "      box-shadow: 0px 1px 2px rgba(60, 64, 67, 0.3), 0px 1px 3px 1px rgba(60, 64, 67, 0.15);\n",
              "      fill: #174EA6;\n",
              "    }\n",
              "\n",
              "    [theme=dark] .colab-df-convert {\n",
              "      background-color: #3B4455;\n",
              "      fill: #D2E3FC;\n",
              "    }\n",
              "\n",
              "    [theme=dark] .colab-df-convert:hover {\n",
              "      background-color: #434B5C;\n",
              "      box-shadow: 0px 1px 3px 1px rgba(0, 0, 0, 0.15);\n",
              "      filter: drop-shadow(0px 1px 2px rgba(0, 0, 0, 0.3));\n",
              "      fill: #FFFFFF;\n",
              "    }\n",
              "  </style>\n",
              "\n",
              "      <script>\n",
              "        const buttonEl =\n",
              "          document.querySelector('#df-73edcfc4-7972-41db-ab62-f63bd07d7358 button.colab-df-convert');\n",
              "        buttonEl.style.display =\n",
              "          google.colab.kernel.accessAllowed ? 'block' : 'none';\n",
              "\n",
              "        async function convertToInteractive(key) {\n",
              "          const element = document.querySelector('#df-73edcfc4-7972-41db-ab62-f63bd07d7358');\n",
              "          const dataTable =\n",
              "            await google.colab.kernel.invokeFunction('convertToInteractive',\n",
              "                                                     [key], {});\n",
              "          if (!dataTable) return;\n",
              "\n",
              "          const docLinkHtml = 'Like what you see? Visit the ' +\n",
              "            '<a target=\"_blank\" href=https://colab.research.google.com/notebooks/data_table.ipynb>data table notebook</a>'\n",
              "            + ' to learn more about interactive tables.';\n",
              "          element.innerHTML = '';\n",
              "          dataTable['output_type'] = 'display_data';\n",
              "          await google.colab.output.renderOutput(dataTable, element);\n",
              "          const docLink = document.createElement('div');\n",
              "          docLink.innerHTML = docLinkHtml;\n",
              "          element.appendChild(docLink);\n",
              "        }\n",
              "      </script>\n",
              "    </div>\n",
              "  </div>\n",
              "  "
            ]
          },
          "metadata": {},
          "execution_count": 97
        }
      ]
    },
    {
      "cell_type": "code",
      "source": [
        "# Observando o resultado do modelo KNN com 3 convertendo a feature categoria\n",
        "preds_v2_KNN3 = KNNv23.predict(df_test['text'].to_list())\n",
        "df_test['preds_v2_KNN3'] = preds_v2_KNN3\n",
        "df_test.sample(10)"
      ],
      "metadata": {
        "colab": {
          "base_uri": "https://localhost:8080/",
          "height": 363
        },
        "id": "2JJt_JF_ekt1",
        "outputId": "29ed794b-8268-4fd3-89a9-0ee6d274c580"
      },
      "execution_count": 98,
      "outputs": [
        {
          "output_type": "execute_result",
          "data": {
            "text/plain": [
              "                                              sentence       category  target  \\\n",
              "259      Documentação Trabalhadores da Limpeza Urbana.  orgão público       1   \n",
              "336  A maior produtora e exportadora de papéis para...     indústrias       3   \n",
              "424  Com nossas florestas no Brasil, alcançamos a c...     indústrias       3   \n",
              "468           Conecte-se ao Onix, o seu próximo hatch.     indústrias       3   \n",
              "432  ATENDIMENTO ON-LINE DEFENSORIA PÚBLICA DO ESTA...  orgão público       1   \n",
              "20   Conheça mais dos prazos, editais e documentos ...       educação       2   \n",
              "419                       Escolha o número de parcelas         varejo       4   \n",
              "491                                   Emissão de Guias  orgão público       1   \n",
              "422                                 Dicas do Professor       educação       2   \n",
              "474  Formas de pagamento: cartões de crédito ou tra...         varejo       4   \n",
              "\n",
              "                                                  text  preds_v1_KNN3  \\\n",
              "259  [-0.14232527, 0.33353278, -0.016350657, -0.047...  orgão público   \n",
              "336  [-0.014207698, -0.14969932, -0.012727719, 0.15...     indústrias   \n",
              "424  [-0.074582264, 0.17854764, -0.01019499, -0.028...     indústrias   \n",
              "468  [-0.07808209, 0.0028290993, -0.016477484, 0.06...     indústrias   \n",
              "432  [-0.07779218, 0.17767699, -0.018568836, 0.0410...  orgão público   \n",
              "20   [-0.055599738, 0.18550734, -0.008544268, -0.07...       educação   \n",
              "419  [-0.065280356, 0.02113638, -0.015441593, -0.01...       finanças   \n",
              "491  [-0.008541264, 0.09006523, -0.017755201, 0.027...       educação   \n",
              "422  [0.08135863, 0.016869271, -0.010019546, 0.0408...       educação   \n",
              "474  [0.03568072, -0.12794472, -0.013846057, -0.006...         varejo   \n",
              "\n",
              "     preds_v2_KNN3  \n",
              "259              1  \n",
              "336              3  \n",
              "424              3  \n",
              "468              3  \n",
              "432              1  \n",
              "20               2  \n",
              "419              1  \n",
              "491              1  \n",
              "422              2  \n",
              "474              4  "
            ],
            "text/html": [
              "\n",
              "  <div id=\"df-b4462354-274b-42d0-ab5e-f95b8e61d4fd\">\n",
              "    <div class=\"colab-df-container\">\n",
              "      <div>\n",
              "<style scoped>\n",
              "    .dataframe tbody tr th:only-of-type {\n",
              "        vertical-align: middle;\n",
              "    }\n",
              "\n",
              "    .dataframe tbody tr th {\n",
              "        vertical-align: top;\n",
              "    }\n",
              "\n",
              "    .dataframe thead th {\n",
              "        text-align: right;\n",
              "    }\n",
              "</style>\n",
              "<table border=\"1\" class=\"dataframe\">\n",
              "  <thead>\n",
              "    <tr style=\"text-align: right;\">\n",
              "      <th></th>\n",
              "      <th>sentence</th>\n",
              "      <th>category</th>\n",
              "      <th>target</th>\n",
              "      <th>text</th>\n",
              "      <th>preds_v1_KNN3</th>\n",
              "      <th>preds_v2_KNN3</th>\n",
              "    </tr>\n",
              "  </thead>\n",
              "  <tbody>\n",
              "    <tr>\n",
              "      <th>259</th>\n",
              "      <td>Documentação Trabalhadores da Limpeza Urbana.</td>\n",
              "      <td>orgão público</td>\n",
              "      <td>1</td>\n",
              "      <td>[-0.14232527, 0.33353278, -0.016350657, -0.047...</td>\n",
              "      <td>orgão público</td>\n",
              "      <td>1</td>\n",
              "    </tr>\n",
              "    <tr>\n",
              "      <th>336</th>\n",
              "      <td>A maior produtora e exportadora de papéis para...</td>\n",
              "      <td>indústrias</td>\n",
              "      <td>3</td>\n",
              "      <td>[-0.014207698, -0.14969932, -0.012727719, 0.15...</td>\n",
              "      <td>indústrias</td>\n",
              "      <td>3</td>\n",
              "    </tr>\n",
              "    <tr>\n",
              "      <th>424</th>\n",
              "      <td>Com nossas florestas no Brasil, alcançamos a c...</td>\n",
              "      <td>indústrias</td>\n",
              "      <td>3</td>\n",
              "      <td>[-0.074582264, 0.17854764, -0.01019499, -0.028...</td>\n",
              "      <td>indústrias</td>\n",
              "      <td>3</td>\n",
              "    </tr>\n",
              "    <tr>\n",
              "      <th>468</th>\n",
              "      <td>Conecte-se ao Onix, o seu próximo hatch.</td>\n",
              "      <td>indústrias</td>\n",
              "      <td>3</td>\n",
              "      <td>[-0.07808209, 0.0028290993, -0.016477484, 0.06...</td>\n",
              "      <td>indústrias</td>\n",
              "      <td>3</td>\n",
              "    </tr>\n",
              "    <tr>\n",
              "      <th>432</th>\n",
              "      <td>ATENDIMENTO ON-LINE DEFENSORIA PÚBLICA DO ESTA...</td>\n",
              "      <td>orgão público</td>\n",
              "      <td>1</td>\n",
              "      <td>[-0.07779218, 0.17767699, -0.018568836, 0.0410...</td>\n",
              "      <td>orgão público</td>\n",
              "      <td>1</td>\n",
              "    </tr>\n",
              "    <tr>\n",
              "      <th>20</th>\n",
              "      <td>Conheça mais dos prazos, editais e documentos ...</td>\n",
              "      <td>educação</td>\n",
              "      <td>2</td>\n",
              "      <td>[-0.055599738, 0.18550734, -0.008544268, -0.07...</td>\n",
              "      <td>educação</td>\n",
              "      <td>2</td>\n",
              "    </tr>\n",
              "    <tr>\n",
              "      <th>419</th>\n",
              "      <td>Escolha o número de parcelas</td>\n",
              "      <td>varejo</td>\n",
              "      <td>4</td>\n",
              "      <td>[-0.065280356, 0.02113638, -0.015441593, -0.01...</td>\n",
              "      <td>finanças</td>\n",
              "      <td>1</td>\n",
              "    </tr>\n",
              "    <tr>\n",
              "      <th>491</th>\n",
              "      <td>Emissão de Guias</td>\n",
              "      <td>orgão público</td>\n",
              "      <td>1</td>\n",
              "      <td>[-0.008541264, 0.09006523, -0.017755201, 0.027...</td>\n",
              "      <td>educação</td>\n",
              "      <td>1</td>\n",
              "    </tr>\n",
              "    <tr>\n",
              "      <th>422</th>\n",
              "      <td>Dicas do Professor</td>\n",
              "      <td>educação</td>\n",
              "      <td>2</td>\n",
              "      <td>[0.08135863, 0.016869271, -0.010019546, 0.0408...</td>\n",
              "      <td>educação</td>\n",
              "      <td>2</td>\n",
              "    </tr>\n",
              "    <tr>\n",
              "      <th>474</th>\n",
              "      <td>Formas de pagamento: cartões de crédito ou tra...</td>\n",
              "      <td>varejo</td>\n",
              "      <td>4</td>\n",
              "      <td>[0.03568072, -0.12794472, -0.013846057, -0.006...</td>\n",
              "      <td>varejo</td>\n",
              "      <td>4</td>\n",
              "    </tr>\n",
              "  </tbody>\n",
              "</table>\n",
              "</div>\n",
              "      <button class=\"colab-df-convert\" onclick=\"convertToInteractive('df-b4462354-274b-42d0-ab5e-f95b8e61d4fd')\"\n",
              "              title=\"Convert this dataframe to an interactive table.\"\n",
              "              style=\"display:none;\">\n",
              "        \n",
              "  <svg xmlns=\"http://www.w3.org/2000/svg\" height=\"24px\"viewBox=\"0 0 24 24\"\n",
              "       width=\"24px\">\n",
              "    <path d=\"M0 0h24v24H0V0z\" fill=\"none\"/>\n",
              "    <path d=\"M18.56 5.44l.94 2.06.94-2.06 2.06-.94-2.06-.94-.94-2.06-.94 2.06-2.06.94zm-11 1L8.5 8.5l.94-2.06 2.06-.94-2.06-.94L8.5 2.5l-.94 2.06-2.06.94zm10 10l.94 2.06.94-2.06 2.06-.94-2.06-.94-.94-2.06-.94 2.06-2.06.94z\"/><path d=\"M17.41 7.96l-1.37-1.37c-.4-.4-.92-.59-1.43-.59-.52 0-1.04.2-1.43.59L10.3 9.45l-7.72 7.72c-.78.78-.78 2.05 0 2.83L4 21.41c.39.39.9.59 1.41.59.51 0 1.02-.2 1.41-.59l7.78-7.78 2.81-2.81c.8-.78.8-2.07 0-2.86zM5.41 20L4 18.59l7.72-7.72 1.47 1.35L5.41 20z\"/>\n",
              "  </svg>\n",
              "      </button>\n",
              "      \n",
              "  <style>\n",
              "    .colab-df-container {\n",
              "      display:flex;\n",
              "      flex-wrap:wrap;\n",
              "      gap: 12px;\n",
              "    }\n",
              "\n",
              "    .colab-df-convert {\n",
              "      background-color: #E8F0FE;\n",
              "      border: none;\n",
              "      border-radius: 50%;\n",
              "      cursor: pointer;\n",
              "      display: none;\n",
              "      fill: #1967D2;\n",
              "      height: 32px;\n",
              "      padding: 0 0 0 0;\n",
              "      width: 32px;\n",
              "    }\n",
              "\n",
              "    .colab-df-convert:hover {\n",
              "      background-color: #E2EBFA;\n",
              "      box-shadow: 0px 1px 2px rgba(60, 64, 67, 0.3), 0px 1px 3px 1px rgba(60, 64, 67, 0.15);\n",
              "      fill: #174EA6;\n",
              "    }\n",
              "\n",
              "    [theme=dark] .colab-df-convert {\n",
              "      background-color: #3B4455;\n",
              "      fill: #D2E3FC;\n",
              "    }\n",
              "\n",
              "    [theme=dark] .colab-df-convert:hover {\n",
              "      background-color: #434B5C;\n",
              "      box-shadow: 0px 1px 3px 1px rgba(0, 0, 0, 0.15);\n",
              "      filter: drop-shadow(0px 1px 2px rgba(0, 0, 0, 0.3));\n",
              "      fill: #FFFFFF;\n",
              "    }\n",
              "  </style>\n",
              "\n",
              "      <script>\n",
              "        const buttonEl =\n",
              "          document.querySelector('#df-b4462354-274b-42d0-ab5e-f95b8e61d4fd button.colab-df-convert');\n",
              "        buttonEl.style.display =\n",
              "          google.colab.kernel.accessAllowed ? 'block' : 'none';\n",
              "\n",
              "        async function convertToInteractive(key) {\n",
              "          const element = document.querySelector('#df-b4462354-274b-42d0-ab5e-f95b8e61d4fd');\n",
              "          const dataTable =\n",
              "            await google.colab.kernel.invokeFunction('convertToInteractive',\n",
              "                                                     [key], {});\n",
              "          if (!dataTable) return;\n",
              "\n",
              "          const docLinkHtml = 'Like what you see? Visit the ' +\n",
              "            '<a target=\"_blank\" href=https://colab.research.google.com/notebooks/data_table.ipynb>data table notebook</a>'\n",
              "            + ' to learn more about interactive tables.';\n",
              "          element.innerHTML = '';\n",
              "          dataTable['output_type'] = 'display_data';\n",
              "          await google.colab.output.renderOutput(dataTable, element);\n",
              "          const docLink = document.createElement('div');\n",
              "          docLink.innerHTML = docLinkHtml;\n",
              "          element.appendChild(docLink);\n",
              "        }\n",
              "      </script>\n",
              "    </div>\n",
              "  </div>\n",
              "  "
            ]
          },
          "metadata": {},
          "execution_count": 98
        }
      ]
    },
    {
      "cell_type": "code",
      "source": [
        "# Métricas do modelo KNN com 3 sem converter a feature categoria\n",
        "print(classification_report(df_test['category'].to_list(), df_test['preds_v1_KNN3'].to_list()))"
      ],
      "metadata": {
        "colab": {
          "base_uri": "https://localhost:8080/"
        },
        "id": "Vrw7gxNlvoaU",
        "outputId": "a4fe6060-da67-4e21-b99d-c07e008c8ff7"
      },
      "execution_count": 99,
      "outputs": [
        {
          "output_type": "stream",
          "name": "stdout",
          "text": [
            "                          precision    recall  f1-score   support\n",
            "\n",
            "                educação       0.74      0.95      0.83        21\n",
            "       educação,finanças       0.00      0.00      0.00         1\n",
            "     educação,indústrias       0.00      0.00      0.00         1\n",
            "  educação,orgão público       0.00      0.00      0.00         3\n",
            "                finanças       0.79      0.88      0.83        17\n",
            "     finanças,indústrias       0.00      0.00      0.00         0\n",
            "  finanças,orgão público       0.00      0.00      0.00         2\n",
            "         finanças,varejo       0.00      0.00      0.00         4\n",
            "              indústrias       0.75      0.71      0.73        21\n",
            "indústrias,orgão público       0.00      0.00      0.00         0\n",
            "       indústrias,varejo       1.00      1.00      1.00         1\n",
            "           orgão público       0.87      0.87      0.87        38\n",
            "                  varejo       0.71      0.75      0.73        20\n",
            "\n",
            "                accuracy                           0.77       129\n",
            "               macro avg       0.37      0.40      0.38       129\n",
            "            weighted avg       0.72      0.77      0.74       129\n",
            "\n"
          ]
        },
        {
          "output_type": "stream",
          "name": "stderr",
          "text": [
            "/usr/local/lib/python3.7/dist-packages/sklearn/metrics/_classification.py:1318: UndefinedMetricWarning: Precision and F-score are ill-defined and being set to 0.0 in labels with no predicted samples. Use `zero_division` parameter to control this behavior.\n",
            "  _warn_prf(average, modifier, msg_start, len(result))\n",
            "/usr/local/lib/python3.7/dist-packages/sklearn/metrics/_classification.py:1318: UndefinedMetricWarning: Recall and F-score are ill-defined and being set to 0.0 in labels with no true samples. Use `zero_division` parameter to control this behavior.\n",
            "  _warn_prf(average, modifier, msg_start, len(result))\n",
            "/usr/local/lib/python3.7/dist-packages/sklearn/metrics/_classification.py:1318: UndefinedMetricWarning: Precision and F-score are ill-defined and being set to 0.0 in labels with no predicted samples. Use `zero_division` parameter to control this behavior.\n",
            "  _warn_prf(average, modifier, msg_start, len(result))\n",
            "/usr/local/lib/python3.7/dist-packages/sklearn/metrics/_classification.py:1318: UndefinedMetricWarning: Recall and F-score are ill-defined and being set to 0.0 in labels with no true samples. Use `zero_division` parameter to control this behavior.\n",
            "  _warn_prf(average, modifier, msg_start, len(result))\n",
            "/usr/local/lib/python3.7/dist-packages/sklearn/metrics/_classification.py:1318: UndefinedMetricWarning: Precision and F-score are ill-defined and being set to 0.0 in labels with no predicted samples. Use `zero_division` parameter to control this behavior.\n",
            "  _warn_prf(average, modifier, msg_start, len(result))\n",
            "/usr/local/lib/python3.7/dist-packages/sklearn/metrics/_classification.py:1318: UndefinedMetricWarning: Recall and F-score are ill-defined and being set to 0.0 in labels with no true samples. Use `zero_division` parameter to control this behavior.\n",
            "  _warn_prf(average, modifier, msg_start, len(result))\n"
          ]
        }
      ]
    },
    {
      "cell_type": "code",
      "source": [
        "# Métricas do modelo KNN com 3 convertendo a feature categoria\n",
        "print(classification_report(df_test['target'].to_list(), df_test['preds_v2_KNN3'].to_list()))"
      ],
      "metadata": {
        "colab": {
          "base_uri": "https://localhost:8080/"
        },
        "id": "rvOwqd3dfGyQ",
        "outputId": "8cc839fd-6977-40f8-866d-e4c3106f6461"
      },
      "execution_count": 100,
      "outputs": [
        {
          "output_type": "stream",
          "name": "stdout",
          "text": [
            "              precision    recall  f1-score   support\n",
            "\n",
            "           1       0.78      0.95      0.86        38\n",
            "           2       0.77      0.95      0.85        21\n",
            "           3       0.84      0.76      0.80        21\n",
            "           4       0.62      0.80      0.70        20\n",
            "           5       1.00      0.65      0.79        17\n",
            "           6       0.00      0.00      0.00         4\n",
            "           7       0.00      0.00      0.00         3\n",
            "           8       1.00      1.00      1.00         1\n",
            "           9       0.00      0.00      0.00         1\n",
            "          10       0.00      0.00      0.00         2\n",
            "          13       0.00      0.00      0.00         1\n",
            "\n",
            "    accuracy                           0.78       129\n",
            "   macro avg       0.46      0.46      0.45       129\n",
            "weighted avg       0.73      0.78      0.74       129\n",
            "\n"
          ]
        },
        {
          "output_type": "stream",
          "name": "stderr",
          "text": [
            "/usr/local/lib/python3.7/dist-packages/sklearn/metrics/_classification.py:1318: UndefinedMetricWarning: Precision and F-score are ill-defined and being set to 0.0 in labels with no predicted samples. Use `zero_division` parameter to control this behavior.\n",
            "  _warn_prf(average, modifier, msg_start, len(result))\n",
            "/usr/local/lib/python3.7/dist-packages/sklearn/metrics/_classification.py:1318: UndefinedMetricWarning: Precision and F-score are ill-defined and being set to 0.0 in labels with no predicted samples. Use `zero_division` parameter to control this behavior.\n",
            "  _warn_prf(average, modifier, msg_start, len(result))\n",
            "/usr/local/lib/python3.7/dist-packages/sklearn/metrics/_classification.py:1318: UndefinedMetricWarning: Precision and F-score are ill-defined and being set to 0.0 in labels with no predicted samples. Use `zero_division` parameter to control this behavior.\n",
            "  _warn_prf(average, modifier, msg_start, len(result))\n"
          ]
        }
      ]
    },
    {
      "cell_type": "markdown",
      "source": [
        "# como o modelo com transformação ficou um pouco melhor, irei utilizar ele alterando a quantidade de neighbors no modelo para avaliar"
      ],
      "metadata": {
        "id": "y9IJBLpXl6Od"
      }
    },
    {
      "cell_type": "code",
      "source": [
        "# Criando e treinando o modelo KNN com 7 convertendo a feature categoria\n",
        "KNNv27 = KNeighborsClassifier(n_neighbors=7, metric='cosine')\n",
        "KNNv27.fit(df_train['text'].to_list(), df_train['target'].to_list())"
      ],
      "metadata": {
        "colab": {
          "base_uri": "https://localhost:8080/"
        },
        "id": "MfnX__c-l5a6",
        "outputId": "e031ef98-a3c2-4248-9157-81febe5ab007"
      },
      "execution_count": 101,
      "outputs": [
        {
          "output_type": "execute_result",
          "data": {
            "text/plain": [
              "KNeighborsClassifier(metric='cosine', n_neighbors=7)"
            ]
          },
          "metadata": {},
          "execution_count": 101
        }
      ]
    },
    {
      "cell_type": "code",
      "source": [
        "# Observando o resultado do modelo KNN com 7 convertendo a feature categoria\n",
        "preds_v2_KNN7 = KNNv27.predict(df_test['text'].to_list())\n",
        "df_test['preds_v2_KNN7'] = preds_v2_KNN7\n",
        "df_test.sample(10)"
      ],
      "metadata": {
        "colab": {
          "base_uri": "https://localhost:8080/",
          "height": 363
        },
        "id": "EI3jj-bIl2VS",
        "outputId": "5a3fcd37-c293-4a99-df89-5c1ce3c43330"
      },
      "execution_count": 102,
      "outputs": [
        {
          "output_type": "execute_result",
          "data": {
            "text/plain": [
              "                                              sentence  \\\n",
              "226  Relação das inscrições preliminarmente homolog...   \n",
              "494                                    Valor da causa?   \n",
              "194  Li e aceito as condições legais e a política d...   \n",
              "201  Com esse instrumento é possível se proteger de...   \n",
              "141  Recall de segurança Chevrolet dos airbags Taka...   \n",
              "432  ATENDIMENTO ON-LINE DEFENSORIA PÚBLICA DO ESTA...   \n",
              "268  Juntada de Petição - Referente ao Evento: EXEC...   \n",
              "343  O banco pode fazer a redução de limite do cart...   \n",
              "160  Professores da rede municipal ganham mais opçõ...   \n",
              "468           Conecte-se ao Onix, o seu próximo hatch.   \n",
              "\n",
              "                   category  target  \\\n",
              "226           orgão público       1   \n",
              "494           orgão público       1   \n",
              "194           orgão público       1   \n",
              "201                finanças       5   \n",
              "141              indústrias       3   \n",
              "432           orgão público       1   \n",
              "268           orgão público       1   \n",
              "343                finanças       5   \n",
              "160  educação,orgão público       7   \n",
              "468              indústrias       3   \n",
              "\n",
              "                                                  text  preds_v1_KNN3  \\\n",
              "226  [-0.0403015, 0.095946535, -0.011624888, -0.114...  orgão público   \n",
              "494  [-0.0031480591, 0.08917081, -0.0187741, 0.0881...  orgão público   \n",
              "194  [-0.037050605, 0.28215003, -0.0049827695, -0.0...  orgão público   \n",
              "201  [-0.03215281, 0.011103355, -0.014827141, 0.071...       finanças   \n",
              "141  [-0.107631795, -0.09924837, -0.0053720456, 0.1...     indústrias   \n",
              "432  [-0.07779218, 0.17767699, -0.018568836, 0.0410...  orgão público   \n",
              "268  [-0.0142406775, 0.065573566, -0.020617293, -0....  orgão público   \n",
              "343  [-0.09371611, 0.071434826, -0.0133635085, -0.0...       finanças   \n",
              "160  [-0.07258245, 0.28036082, -0.015285406, 0.0082...       educação   \n",
              "468  [-0.07808209, 0.0028290993, -0.016477484, 0.06...     indústrias   \n",
              "\n",
              "     preds_v2_KNN3  preds_v2_KNN7  \n",
              "226              1              1  \n",
              "494              1              1  \n",
              "194              1              1  \n",
              "201              5              5  \n",
              "141              3              3  \n",
              "432              1              1  \n",
              "268              1              1  \n",
              "343              5              5  \n",
              "160              2              2  \n",
              "468              3              3  "
            ],
            "text/html": [
              "\n",
              "  <div id=\"df-a473ba3e-44b3-4616-b6a9-98cacfd9572a\">\n",
              "    <div class=\"colab-df-container\">\n",
              "      <div>\n",
              "<style scoped>\n",
              "    .dataframe tbody tr th:only-of-type {\n",
              "        vertical-align: middle;\n",
              "    }\n",
              "\n",
              "    .dataframe tbody tr th {\n",
              "        vertical-align: top;\n",
              "    }\n",
              "\n",
              "    .dataframe thead th {\n",
              "        text-align: right;\n",
              "    }\n",
              "</style>\n",
              "<table border=\"1\" class=\"dataframe\">\n",
              "  <thead>\n",
              "    <tr style=\"text-align: right;\">\n",
              "      <th></th>\n",
              "      <th>sentence</th>\n",
              "      <th>category</th>\n",
              "      <th>target</th>\n",
              "      <th>text</th>\n",
              "      <th>preds_v1_KNN3</th>\n",
              "      <th>preds_v2_KNN3</th>\n",
              "      <th>preds_v2_KNN7</th>\n",
              "    </tr>\n",
              "  </thead>\n",
              "  <tbody>\n",
              "    <tr>\n",
              "      <th>226</th>\n",
              "      <td>Relação das inscrições preliminarmente homolog...</td>\n",
              "      <td>orgão público</td>\n",
              "      <td>1</td>\n",
              "      <td>[-0.0403015, 0.095946535, -0.011624888, -0.114...</td>\n",
              "      <td>orgão público</td>\n",
              "      <td>1</td>\n",
              "      <td>1</td>\n",
              "    </tr>\n",
              "    <tr>\n",
              "      <th>494</th>\n",
              "      <td>Valor da causa?</td>\n",
              "      <td>orgão público</td>\n",
              "      <td>1</td>\n",
              "      <td>[-0.0031480591, 0.08917081, -0.0187741, 0.0881...</td>\n",
              "      <td>orgão público</td>\n",
              "      <td>1</td>\n",
              "      <td>1</td>\n",
              "    </tr>\n",
              "    <tr>\n",
              "      <th>194</th>\n",
              "      <td>Li e aceito as condições legais e a política d...</td>\n",
              "      <td>orgão público</td>\n",
              "      <td>1</td>\n",
              "      <td>[-0.037050605, 0.28215003, -0.0049827695, -0.0...</td>\n",
              "      <td>orgão público</td>\n",
              "      <td>1</td>\n",
              "      <td>1</td>\n",
              "    </tr>\n",
              "    <tr>\n",
              "      <th>201</th>\n",
              "      <td>Com esse instrumento é possível se proteger de...</td>\n",
              "      <td>finanças</td>\n",
              "      <td>5</td>\n",
              "      <td>[-0.03215281, 0.011103355, -0.014827141, 0.071...</td>\n",
              "      <td>finanças</td>\n",
              "      <td>5</td>\n",
              "      <td>5</td>\n",
              "    </tr>\n",
              "    <tr>\n",
              "      <th>141</th>\n",
              "      <td>Recall de segurança Chevrolet dos airbags Taka...</td>\n",
              "      <td>indústrias</td>\n",
              "      <td>3</td>\n",
              "      <td>[-0.107631795, -0.09924837, -0.0053720456, 0.1...</td>\n",
              "      <td>indústrias</td>\n",
              "      <td>3</td>\n",
              "      <td>3</td>\n",
              "    </tr>\n",
              "    <tr>\n",
              "      <th>432</th>\n",
              "      <td>ATENDIMENTO ON-LINE DEFENSORIA PÚBLICA DO ESTA...</td>\n",
              "      <td>orgão público</td>\n",
              "      <td>1</td>\n",
              "      <td>[-0.07779218, 0.17767699, -0.018568836, 0.0410...</td>\n",
              "      <td>orgão público</td>\n",
              "      <td>1</td>\n",
              "      <td>1</td>\n",
              "    </tr>\n",
              "    <tr>\n",
              "      <th>268</th>\n",
              "      <td>Juntada de Petição - Referente ao Evento: EXEC...</td>\n",
              "      <td>orgão público</td>\n",
              "      <td>1</td>\n",
              "      <td>[-0.0142406775, 0.065573566, -0.020617293, -0....</td>\n",
              "      <td>orgão público</td>\n",
              "      <td>1</td>\n",
              "      <td>1</td>\n",
              "    </tr>\n",
              "    <tr>\n",
              "      <th>343</th>\n",
              "      <td>O banco pode fazer a redução de limite do cart...</td>\n",
              "      <td>finanças</td>\n",
              "      <td>5</td>\n",
              "      <td>[-0.09371611, 0.071434826, -0.0133635085, -0.0...</td>\n",
              "      <td>finanças</td>\n",
              "      <td>5</td>\n",
              "      <td>5</td>\n",
              "    </tr>\n",
              "    <tr>\n",
              "      <th>160</th>\n",
              "      <td>Professores da rede municipal ganham mais opçõ...</td>\n",
              "      <td>educação,orgão público</td>\n",
              "      <td>7</td>\n",
              "      <td>[-0.07258245, 0.28036082, -0.015285406, 0.0082...</td>\n",
              "      <td>educação</td>\n",
              "      <td>2</td>\n",
              "      <td>2</td>\n",
              "    </tr>\n",
              "    <tr>\n",
              "      <th>468</th>\n",
              "      <td>Conecte-se ao Onix, o seu próximo hatch.</td>\n",
              "      <td>indústrias</td>\n",
              "      <td>3</td>\n",
              "      <td>[-0.07808209, 0.0028290993, -0.016477484, 0.06...</td>\n",
              "      <td>indústrias</td>\n",
              "      <td>3</td>\n",
              "      <td>3</td>\n",
              "    </tr>\n",
              "  </tbody>\n",
              "</table>\n",
              "</div>\n",
              "      <button class=\"colab-df-convert\" onclick=\"convertToInteractive('df-a473ba3e-44b3-4616-b6a9-98cacfd9572a')\"\n",
              "              title=\"Convert this dataframe to an interactive table.\"\n",
              "              style=\"display:none;\">\n",
              "        \n",
              "  <svg xmlns=\"http://www.w3.org/2000/svg\" height=\"24px\"viewBox=\"0 0 24 24\"\n",
              "       width=\"24px\">\n",
              "    <path d=\"M0 0h24v24H0V0z\" fill=\"none\"/>\n",
              "    <path d=\"M18.56 5.44l.94 2.06.94-2.06 2.06-.94-2.06-.94-.94-2.06-.94 2.06-2.06.94zm-11 1L8.5 8.5l.94-2.06 2.06-.94-2.06-.94L8.5 2.5l-.94 2.06-2.06.94zm10 10l.94 2.06.94-2.06 2.06-.94-2.06-.94-.94-2.06-.94 2.06-2.06.94z\"/><path d=\"M17.41 7.96l-1.37-1.37c-.4-.4-.92-.59-1.43-.59-.52 0-1.04.2-1.43.59L10.3 9.45l-7.72 7.72c-.78.78-.78 2.05 0 2.83L4 21.41c.39.39.9.59 1.41.59.51 0 1.02-.2 1.41-.59l7.78-7.78 2.81-2.81c.8-.78.8-2.07 0-2.86zM5.41 20L4 18.59l7.72-7.72 1.47 1.35L5.41 20z\"/>\n",
              "  </svg>\n",
              "      </button>\n",
              "      \n",
              "  <style>\n",
              "    .colab-df-container {\n",
              "      display:flex;\n",
              "      flex-wrap:wrap;\n",
              "      gap: 12px;\n",
              "    }\n",
              "\n",
              "    .colab-df-convert {\n",
              "      background-color: #E8F0FE;\n",
              "      border: none;\n",
              "      border-radius: 50%;\n",
              "      cursor: pointer;\n",
              "      display: none;\n",
              "      fill: #1967D2;\n",
              "      height: 32px;\n",
              "      padding: 0 0 0 0;\n",
              "      width: 32px;\n",
              "    }\n",
              "\n",
              "    .colab-df-convert:hover {\n",
              "      background-color: #E2EBFA;\n",
              "      box-shadow: 0px 1px 2px rgba(60, 64, 67, 0.3), 0px 1px 3px 1px rgba(60, 64, 67, 0.15);\n",
              "      fill: #174EA6;\n",
              "    }\n",
              "\n",
              "    [theme=dark] .colab-df-convert {\n",
              "      background-color: #3B4455;\n",
              "      fill: #D2E3FC;\n",
              "    }\n",
              "\n",
              "    [theme=dark] .colab-df-convert:hover {\n",
              "      background-color: #434B5C;\n",
              "      box-shadow: 0px 1px 3px 1px rgba(0, 0, 0, 0.15);\n",
              "      filter: drop-shadow(0px 1px 2px rgba(0, 0, 0, 0.3));\n",
              "      fill: #FFFFFF;\n",
              "    }\n",
              "  </style>\n",
              "\n",
              "      <script>\n",
              "        const buttonEl =\n",
              "          document.querySelector('#df-a473ba3e-44b3-4616-b6a9-98cacfd9572a button.colab-df-convert');\n",
              "        buttonEl.style.display =\n",
              "          google.colab.kernel.accessAllowed ? 'block' : 'none';\n",
              "\n",
              "        async function convertToInteractive(key) {\n",
              "          const element = document.querySelector('#df-a473ba3e-44b3-4616-b6a9-98cacfd9572a');\n",
              "          const dataTable =\n",
              "            await google.colab.kernel.invokeFunction('convertToInteractive',\n",
              "                                                     [key], {});\n",
              "          if (!dataTable) return;\n",
              "\n",
              "          const docLinkHtml = 'Like what you see? Visit the ' +\n",
              "            '<a target=\"_blank\" href=https://colab.research.google.com/notebooks/data_table.ipynb>data table notebook</a>'\n",
              "            + ' to learn more about interactive tables.';\n",
              "          element.innerHTML = '';\n",
              "          dataTable['output_type'] = 'display_data';\n",
              "          await google.colab.output.renderOutput(dataTable, element);\n",
              "          const docLink = document.createElement('div');\n",
              "          docLink.innerHTML = docLinkHtml;\n",
              "          element.appendChild(docLink);\n",
              "        }\n",
              "      </script>\n",
              "    </div>\n",
              "  </div>\n",
              "  "
            ]
          },
          "metadata": {},
          "execution_count": 102
        }
      ]
    },
    {
      "cell_type": "code",
      "source": [
        "# Métricas do modelo KNN com 7 convertendo a feature categoria\n",
        "print(classification_report(df_test['target'].to_list(), df_test['preds_v2_KNN7'].to_list()))"
      ],
      "metadata": {
        "colab": {
          "base_uri": "https://localhost:8080/"
        },
        "id": "F8gZxdg1l2YH",
        "outputId": "86ac301a-0d19-4319-9034-c0bb3bb5f890"
      },
      "execution_count": 103,
      "outputs": [
        {
          "output_type": "stream",
          "name": "stdout",
          "text": [
            "              precision    recall  f1-score   support\n",
            "\n",
            "           1       0.86      0.95      0.90        38\n",
            "           2       0.77      0.95      0.85        21\n",
            "           3       0.81      0.81      0.81        21\n",
            "           4       0.67      0.80      0.73        20\n",
            "           5       0.86      0.71      0.77        17\n",
            "           6       1.00      0.25      0.40         4\n",
            "           7       0.00      0.00      0.00         3\n",
            "           8       0.00      0.00      0.00         1\n",
            "           9       0.00      0.00      0.00         1\n",
            "          10       0.00      0.00      0.00         2\n",
            "          13       0.00      0.00      0.00         1\n",
            "\n",
            "    accuracy                           0.79       129\n",
            "   macro avg       0.45      0.41      0.41       129\n",
            "weighted avg       0.76      0.79      0.76       129\n",
            "\n"
          ]
        },
        {
          "output_type": "stream",
          "name": "stderr",
          "text": [
            "/usr/local/lib/python3.7/dist-packages/sklearn/metrics/_classification.py:1318: UndefinedMetricWarning: Precision and F-score are ill-defined and being set to 0.0 in labels with no predicted samples. Use `zero_division` parameter to control this behavior.\n",
            "  _warn_prf(average, modifier, msg_start, len(result))\n",
            "/usr/local/lib/python3.7/dist-packages/sklearn/metrics/_classification.py:1318: UndefinedMetricWarning: Precision and F-score are ill-defined and being set to 0.0 in labels with no predicted samples. Use `zero_division` parameter to control this behavior.\n",
            "  _warn_prf(average, modifier, msg_start, len(result))\n",
            "/usr/local/lib/python3.7/dist-packages/sklearn/metrics/_classification.py:1318: UndefinedMetricWarning: Precision and F-score are ill-defined and being set to 0.0 in labels with no predicted samples. Use `zero_division` parameter to control this behavior.\n",
            "  _warn_prf(average, modifier, msg_start, len(result))\n"
          ]
        }
      ]
    },
    {
      "cell_type": "code",
      "source": [],
      "metadata": {
        "id": "gaSSG9xWl2au"
      },
      "execution_count": 103,
      "outputs": []
    },
    {
      "cell_type": "code",
      "source": [],
      "metadata": {
        "id": "S-V_aIUol2mG"
      },
      "execution_count": 103,
      "outputs": []
    },
    {
      "cell_type": "markdown",
      "source": [
        "## Validando o modelo"
      ],
      "metadata": {
        "id": "TMb3xBPG2dlC"
      }
    },
    {
      "cell_type": "code",
      "source": [
        "# criação das entradas para validação do modelo\n",
        "texto_entrada1 = 'Ata do Fed reforça alta de juros, mesmo com efeitos colaterais'  #finanças\n",
        "texto_entrada2 = 'Denúncias de corrupção assolam Conselho Federal de Administração'  #orgão público"
      ],
      "metadata": {
        "id": "Ehucn-nBklOo"
      },
      "execution_count": 104,
      "outputs": []
    },
    {
      "cell_type": "code",
      "source": [
        "# Usando modelo KNN3 - sem tranformar a feature Categoria\n",
        "features1 = text_feature_extractor.encode([texto_entrada1])\n",
        "features2 = text_feature_extractor.encode([texto_entrada2])\n",
        "resultado1 = KNNv13.predict(features1)\n",
        "resultado2 = KNNv13.predict(features2)\n",
        "print('Resultado para a frase', texto_entrada1, 'é : ', resultado1)\n",
        "print('Resultado para a frase', texto_entrada2, 'é : ', resultado2)"
      ],
      "metadata": {
        "colab": {
          "base_uri": "https://localhost:8080/"
        },
        "id": "cZhFr2sVnqTb",
        "outputId": "e960476e-75aa-4ab0-9c5f-5add8f89c350"
      },
      "execution_count": 105,
      "outputs": [
        {
          "output_type": "stream",
          "name": "stdout",
          "text": [
            "Resultado para a frase Ata do Fed reforça alta de juros, mesmo com efeitos colaterais é :  ['finanças']\n",
            "Resultado para a frase Denúncias de corrupção assolam Conselho Federal de Administração é :  ['orgão público']\n"
          ]
        }
      ]
    },
    {
      "cell_type": "markdown",
      "source": [
        "# Legenda\n",
        "\n",
        "1.   orgão público\n",
        "2.   educação\n",
        "1.   indústrias\n",
        "2.   varejo\n",
        "1.   finanças\n",
        "1.   finanças,varejo\n",
        "1.   educação,orgão público\n",
        "1.   indústrias,varejo\n",
        "2.   educação,indústria\n",
        "2.   finanças,orgão público\n",
        "2.   finanças,indústrias\n",
        "2.   indústrias,orgão público\n",
        "1.   educação,finanças\n",
        "2.   varejo,indústrias\n"
      ],
      "metadata": {
        "id": "pfDuYy1Zselj"
      }
    },
    {
      "cell_type": "code",
      "source": [
        "# Usando modelo KNN7 - com a transformação da Categoria\n",
        "\n",
        "features1 = text_feature_extractor.encode([texto_entrada1])\n",
        "features2 = text_feature_extractor.encode([texto_entrada2])\n",
        "resultado1 = KNNv27.predict(features1)\n",
        "resultado2 = KNNv27.predict(features2)\n",
        "print('Resultado para a frase', texto_entrada1, 'é : ', resultado1)\n",
        "print('Resultado para a frase', texto_entrada2, 'é : ', resultado2)"
      ],
      "metadata": {
        "colab": {
          "base_uri": "https://localhost:8080/"
        },
        "id": "uqTE6YIoo_Bj",
        "outputId": "374bc5ae-117e-4070-aa26-b239b5f7a617"
      },
      "execution_count": 106,
      "outputs": [
        {
          "output_type": "stream",
          "name": "stdout",
          "text": [
            "Resultado para a frase Ata do Fed reforça alta de juros, mesmo com efeitos colaterais é :  [5]\n",
            "Resultado para a frase Denúncias de corrupção assolam Conselho Federal de Administração é :  [1]\n"
          ]
        }
      ]
    }
  ]
}